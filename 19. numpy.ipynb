{
 "cells": [
  {
   "cell_type": "markdown",
   "id": "48e96b72",
   "metadata": {},
   "source": [
    "## 1. ndarray\n",
    "### 1) 다차원 배열 클래스\n",
    "\n"
   ]
  },
  {
   "cell_type": "code",
   "execution_count": 4,
   "id": "097b3034",
   "metadata": {},
   "outputs": [],
   "source": [
    "import numpy as np"
   ]
  },
  {
   "cell_type": "code",
   "execution_count": 14,
   "id": "c3b2c50b",
   "metadata": {},
   "outputs": [
    {
     "name": "stdout",
     "output_type": "stream",
     "text": [
      "[1 2 3 4 5]\n",
      "<class 'numpy.ndarray'>\n",
      "shape :  (5,)\n",
      "shape :  (2, 3)\n",
      "shape :  (3,)\n",
      "ndim :  1\n",
      "ndim :  2\n",
      "ndim :  1\n",
      "dtype :  int32\n",
      "dtype :  int32\n",
      "dtype :  <U6\n",
      "itemsize :  4\n",
      "itemsize :  4\n",
      "itemsize :  24\n",
      "size :  5\n",
      "size :  6\n",
      "size :  3\n"
     ]
    }
   ],
   "source": [
    "a = np.array([1, 2, 3, 4, 5])\n",
    "b = np.array([[1,2,3],[2,3,4]])\n",
    "c = np.array([\"hello\", \"python\", \"ora\"])\n",
    "\n",
    "print(a)\n",
    "print(type(a))\n",
    "print(b)\n",
    "peinr(c)\n",
    "\n",
    "\n",
    "print(\"shape : \", a.shape)\n",
    "print(\"shape : \", b.shape)\n",
    "print(\"shape : \", c.shape)\n",
    "\n",
    "print(\"ndim : \", a.ndim)\n",
    "print(\"ndim : \", b.ndim)\n",
    "print(\"ndim : \", c.ndim)\n",
    "\n",
    "print(\"dtype : \", a.dtype)\n",
    "print(\"dtype : \", b.dtype)\n",
    "print(\"dtype : \", c.dtype)\n",
    "\n",
    "print(\"itemsize : \", a.itemsize)\n",
    "print(\"itemsize : \", b.itemsize)\n",
    "print(\"itemsize : \", c.itemsize)\n",
    "      \n",
    "\n",
    "print(\"size : \", a.size)\n",
    "print(\"size : \", b.size)\n",
    "print(\"size : \", c.size)\n"
   ]
  },
  {
   "cell_type": "markdown",
   "id": "c4389619",
   "metadata": {},
   "source": [
    "### 2) 주요 메서드 / 함수"
   ]
  },
  {
   "cell_type": "code",
   "execution_count": 16,
   "id": "e2f22c3b",
   "metadata": {},
   "outputs": [
    {
     "name": "stdout",
     "output_type": "stream",
     "text": [
      "5 1 3.0\n"
     ]
    }
   ],
   "source": [
    "# max, min, mean\n",
    "a = np.array([1, 2, 3, 4, 5])\n",
    "print(a.max(), a.min(), a.mean())"
   ]
  },
  {
   "cell_type": "code",
   "execution_count": 17,
   "id": "020e3080",
   "metadata": {},
   "outputs": [
    {
     "name": "stdout",
     "output_type": "stream",
     "text": [
      "[[1 2]\n",
      " [3 4]\n",
      " [5 6]]\n",
      "[1 2 3 4 5 6]\n"
     ]
    }
   ],
   "source": [
    "# flatten\n",
    "b = np.array([ [1,2],[3,4],[5,6]])\n",
    "print(b)\n",
    "print(b.flatten())"
   ]
  },
  {
   "cell_type": "code",
   "execution_count": 24,
   "id": "691e96fc",
   "metadata": {},
   "outputs": [
    {
     "name": "stdout",
     "output_type": "stream",
     "text": [
      "[1 2 3 4 5 6 7 8 9]\n",
      "[[1 2 3]\n",
      " [4 5 6]\n",
      " [7 8 9]]\n",
      "[[ 4  5  6]\n",
      " [ 7  8  9]\n",
      " [11 12 13]\n",
      " [13 14 15]]\n",
      "[[ 4  5  6 11 12 13]\n",
      " [ 7  8  9 13 14 15]]\n"
     ]
    }
   ],
   "source": [
    "# np.append\n",
    "a = np.array([1,2,3])\n",
    "b = np.array([ [4,5,6],[7,8,9] ])\n",
    "print(np.append(a,b))\n",
    "print(np.append([a],b,axis=0))\n",
    "c = np.array([ [11, 12, 13], [13, 14, 15]  ])\n",
    "print(np.append(b,c,axis=0))\n",
    "print(np.append(b,c,axis=1))"
   ]
  },
  {
   "cell_type": "markdown",
   "id": "2955084a",
   "metadata": {},
   "source": [
    "### 3) ndarray 생성 함수"
   ]
  },
  {
   "cell_type": "code",
   "execution_count": 31,
   "id": "f61a5912",
   "metadata": {},
   "outputs": [
    {
     "name": "stdout",
     "output_type": "stream",
     "text": [
      "[[0. 0. 0.]\n",
      " [0. 0. 0.]\n",
      " [0. 0. 0.]]\n",
      "[[1. 1.]\n",
      " [1. 1.]\n",
      " [1. 1.]]\n",
      "[[10 10]\n",
      " [10 10]\n",
      " [10 10]]\n",
      "[[1. 0. 0. 0.]\n",
      " [0. 1. 0. 0.]\n",
      " [0. 0. 1. 0.]\n",
      " [0. 0. 0. 1.]]\n",
      "[0 2 4 6 8]\n"
     ]
    }
   ],
   "source": [
    "print(np.zeros((3,3)))\n",
    "print(np.ones((3,2)))\n",
    "print(np.full((3,2),10))\n",
    "print(np.eye(4))\n",
    "print(np.arange(1,10,2))\n"
   ]
  },
  {
   "cell_type": "code",
   "execution_count": 39,
   "id": "6869b423",
   "metadata": {},
   "outputs": [
    {
     "name": "stdout",
     "output_type": "stream",
     "text": [
      "[ 1  3  5  7  9 11 13 15 17 19]\n",
      "[[ 1  3]\n",
      " [ 5  7]\n",
      " [ 9 11]\n",
      " [13 15]\n",
      " [17 19]]\n",
      "[[ 1  3]\n",
      " [ 5  7]\n",
      " [ 9 11]\n",
      " [13 15]\n",
      " [17 19]]\n",
      "[[ 1  5  9 13 17]\n",
      " [ 3  7 11 15 19]]\n"
     ]
    }
   ],
   "source": [
    "# ndarray 재구성\n",
    "a = np.arange(1,20,2)\n",
    "print(a)\n",
    "print(a.reshape(5,2))\n",
    "\n",
    "b = np.arange(1,20,2).reshape(5,2)\n",
    "print(b)\n",
    "print(np.transpose(b))\n"
   ]
  },
  {
   "cell_type": "markdown",
   "id": "54a18775",
   "metadata": {},
   "source": [
    "### 4) 다차원 배열의 축"
   ]
  },
  {
   "cell_type": "code",
   "execution_count": 40,
   "id": "83a2ed22",
   "metadata": {},
   "outputs": [
    {
     "name": "stdout",
     "output_type": "stream",
     "text": [
      "[[1 2]\n",
      " [3 4]\n",
      " [5 6]]\n",
      "[ 9 12]\n",
      "[ 3  7 11]\n"
     ]
    }
   ],
   "source": [
    "# sum()\n",
    "a = np.arange(1,7).reshape(3,2)\n",
    "print(a)\n",
    "\n",
    "print(a.sum(axis=0))\n",
    "print(a.sum(axis=1))\n"
   ]
  },
  {
   "cell_type": "code",
   "execution_count": 45,
   "id": "228fbacf",
   "metadata": {},
   "outputs": [
    {
     "name": "stdout",
     "output_type": "stream",
     "text": [
      "[[ 1  2]\n",
      " [10 10]\n",
      " [ 3  4]\n",
      " [ 5  6]]\n",
      "[[ 1 20  2]\n",
      " [ 3 20  4]\n",
      " [ 5 20  6]]\n",
      "--------------------------------------\n",
      "[[ 1  2]\n",
      " [10 10]\n",
      " [ 3  4]\n",
      " [ 5  6]]\n",
      "--------------------------------------\n",
      "[[ 1  2]\n",
      " [10 10]\n",
      " [ 3  4]\n",
      " [ 5  6]]\n",
      "[[1 2]\n",
      " [3 4]\n",
      " [5 6]]\n",
      "[[ 1]\n",
      " [10]\n",
      " [ 3]\n",
      " [ 5]]\n"
     ]
    }
   ],
   "source": [
    "# insert, delete\n",
    "a = np.arange(1,7).reshape(3,2)\n",
    "print(np.insert(a, 1, 10, axis=0))\n",
    "print(np.insert(a, 1, 20, axis=1))\n",
    "print(\"--------------------------------------\")\n",
    "b = np.insert(a, 1, 10, axis=0)\n",
    "print(b)\n",
    "np.insert(b, 1, 30, axis=1)\n",
    "print(\"--------------------------------------\")\n",
    "print(b)\n",
    "print(np.delete(b, 1, axis=0))\n",
    "print(np.delete(b, 1, axis=1))"
   ]
  },
  {
   "cell_type": "markdown",
   "id": "cfa6d997",
   "metadata": {},
   "source": [
    "### 5) 인덱싱과 슬라이싱"
   ]
  },
  {
   "cell_type": "code",
   "execution_count": 47,
   "id": "4a898b14",
   "metadata": {},
   "outputs": [
    {
     "name": "stdout",
     "output_type": "stream",
     "text": [
      "[0 1 2 3 4]\n",
      "0 3 4\n"
     ]
    }
   ],
   "source": [
    "# 1차원 배열 인덱싱 :list와 동일\n",
    "a = np.arange(5)\n",
    "print(a)\n",
    "print(a[0], a[3], a[-1])"
   ]
  },
  {
   "cell_type": "code",
   "execution_count": 52,
   "id": "b077786d",
   "metadata": {},
   "outputs": [
    {
     "name": "stdout",
     "output_type": "stream",
     "text": [
      "[0 1 2 3 4]\n",
      "0 3 4\n"
     ]
    }
   ],
   "source": [
    "# 1차원 배열의 인덱싱 (여러 개 원소 인덱싱)\n",
    "a = np.arange(5)\n",
    "print(a)\n",
    "print(a[0], a[3], a[-1])\n"
   ]
  },
  {
   "cell_type": "code",
   "execution_count": 53,
   "id": "2f9277c5",
   "metadata": {},
   "outputs": [
    {
     "name": "stdout",
     "output_type": "stream",
     "text": [
      "[0 3 4]\n"
     ]
    }
   ],
   "source": [
    "# 1차원 배열의 인덱싱 (여러 개 원소 인덱싱)\n",
    "a = np.arange(5)\n",
    "\n",
    "print(a[[0, 3, -1]])"
   ]
  },
  {
   "cell_type": "code",
   "execution_count": 54,
   "id": "32b84bc5",
   "metadata": {},
   "outputs": [
    {
     "name": "stdout",
     "output_type": "stream",
     "text": [
      "[0 1 2 3 4 5 6 7 8 9]\n",
      "[0 1 2]\n",
      "[3 4 5 6]\n",
      "[0 2 4 6 8]\n",
      "[9 8 7 6 5 4 3 2 1 0]\n"
     ]
    }
   ],
   "source": [
    "#1차원 배열의 슬라이싱 : list와 동일\n",
    "a = np.arange(10)\n",
    "print(a)\n",
    "print(a[:3])\n",
    "print(a[3:7])\n",
    "print(a[::2])\n",
    "print(a[::-1])"
   ]
  },
  {
   "cell_type": "code",
   "execution_count": 58,
   "id": "f94aa1ed",
   "metadata": {},
   "outputs": [
    {
     "name": "stdout",
     "output_type": "stream",
     "text": [
      "[[1 2]\n",
      " [3 4]\n",
      " [5 6]]\n",
      "2\n",
      "6\n",
      "2\n",
      "6\n"
     ]
    }
   ],
   "source": [
    "# 2차원 배열의 인덱싱\n",
    "a = np.array([ [1,2], [3,4], [5,6] ])\n",
    "print(a)\n",
    "print(a[0][1])\n",
    "print(a[2][1])\n",
    "\n",
    "print(a[0,1])\n",
    "print(a[2,1])\n"
   ]
  },
  {
   "cell_type": "code",
   "execution_count": 59,
   "id": "37efabb0",
   "metadata": {},
   "outputs": [
    {
     "name": "stdout",
     "output_type": "stream",
     "text": [
      "[[1 2]\n",
      " [3 4]]\n",
      "[3 4]\n",
      "4\n",
      "[2 4]\n"
     ]
    }
   ],
   "source": [
    "# 2차원 배열의 슬라이싱\n",
    "a = np.array([ [1,2], [3,4], [5,6]])\n",
    "\n",
    "print(a[:2])\n",
    "print(a[:2][1])\n",
    "print(a[:2][1][1])\n",
    "\n",
    "print(a[:2, 1])"
   ]
  },
  {
   "cell_type": "code",
   "execution_count": null,
   "id": "bf81345f",
   "metadata": {},
   "outputs": [],
   "source": []
  }
 ],
 "metadata": {
  "kernelspec": {
   "display_name": "Python 3 (ipykernel)",
   "language": "python",
   "name": "python3"
  },
  "language_info": {
   "codemirror_mode": {
    "name": "ipython",
    "version": 3
   },
   "file_extension": ".py",
   "mimetype": "text/x-python",
   "name": "python",
   "nbconvert_exporter": "python",
   "pygments_lexer": "ipython3",
   "version": "3.10.6"
  }
 },
 "nbformat": 4,
 "nbformat_minor": 5
}
