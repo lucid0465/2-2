{
 "cells": [
  {
   "cell_type": "markdown",
   "id": "2a655f47",
   "metadata": {},
   "source": [
    "## 1. 정규표현식 모듈 함수"
   ]
  },
  {
   "cell_type": "code",
   "execution_count": null,
   "id": "71fd21bc",
   "metadata": {},
   "outputs": [],
   "source": [
    "import re"
   ]
  },
  {
   "cell_type": "markdown",
   "id": "be0aa8e3",
   "metadata": {},
   "source": [
    "### 1) search & 메타문자"
   ]
  },
  {
   "cell_type": "code",
   "execution_count": null,
   "id": "4fdfa2a6",
   "metadata": {},
   "outputs": [],
   "source": [
    "# . : 문자 1개(\\n 제외)\n",
    "print(re.search(\"app.e\", \"orange apple banana\"))\n",
    "print(re.search(\"app.e\", \"orange appe banana\"))"
   ]
  },
  {
   "cell_type": "code",
   "execution_count": null,
   "id": "db0e4d53",
   "metadata": {},
   "outputs": [],
   "source": [
    "# ^ : 문자열 시작\n",
    "print(re.search(\"^app\", \"apple orange apple banana\"))"
   ]
  },
  {
   "cell_type": "code",
   "execution_count": null,
   "id": "f94e6089",
   "metadata": {},
   "outputs": [],
   "source": [
    "# & : 문자열 종료\n",
    "print(re.search(\"ana&\",\"orange apple banana\"))"
   ]
  },
  {
   "cell_type": "code",
   "execution_count": null,
   "id": "e9e4d3c4",
   "metadata": {},
   "outputs": [],
   "source": [
    "# [] :\n",
    "print(re.search(\"app[jklmn]e\", \"orange apple banana\"))\n",
    "print(re.search(\"app[a-z]e\", \"orange apple banana\"))\n",
    "print(re.search(\"app[a-zA-Z]e\", \"orange appKe banana\"))\n",
    "print(re.search(\"app[0-9]e\", \"orange app9e banana\"))\n",
    "print(re.search(\"app[^0-9]e\", \"orange appKe banana\"))\n",
    "\n",
    "print(re.search(\"apple\", \"orange apple banana\"))"
   ]
  },
  {
   "cell_type": "code",
   "execution_count": null,
   "id": "6ce670e7",
   "metadata": {},
   "outputs": [],
   "source": [
    "# l : or\n",
    "re.search(\"app.e l ba.a\",\"orange apple banana\")"
   ]
  },
  {
   "cell_type": "code",
   "execution_count": null,
   "id": "5dd17eb4",
   "metadata": {},
   "outputs": [],
   "source": [
    "# () : 괄호 안에 정규식을 그룹으로 생성\n",
    "a = \"제 전화번호는 010-1111-2222, 010-3333-4444입니다. 전화주시면 감사하겠습니다.\"\n",
    "b = re.search(\"(\\d{3})-(\\d{4})-(\\d{4})\", a)\n",
    "print(b)\n",
    "\n",
    "print(b.groups())\n",
    "print(b.group())\n",
    "print(b.group(1))\n",
    "print(b.group(2))\n",
    "print(b.group(3))\n",
    "\n",
    "print(b.start())\n",
    "print(b.end())"
   ]
  },
  {
   "cell_type": "code",
   "execution_count": null,
   "id": "c9784b83",
   "metadata": {},
   "outputs": [],
   "source": [
    "# *, +, -\n",
    "print(re.search(\"ap*le\", \"appple\"))\n",
    "print(re.search(\"ap+le\", \"appppple\"))\n",
    "print(re.search(\"ap?le\", \"apple\"))"
   ]
  },
  {
   "cell_type": "code",
   "execution_count": null,
   "id": "db76bb31",
   "metadata": {},
   "outputs": [],
   "source": [
    "# {m}, {m, n}, {m,}\n",
    "print(re.search(\"ap{3}le\", \"aple apple appple apppppple\"))\n",
    "print(re.search(\"ap{1,3}le\", \"aple apple appple apppppple\"))\n",
    "print(re.search(\"ap{3,}le\", \"aple apple appple apppppple\"))"
   ]
  },
  {
   "cell_type": "code",
   "execution_count": null,
   "id": "82d49493",
   "metadata": {},
   "outputs": [],
   "source": [
    "# Ww, Wd\n",
    "print(re.search(\"a\\w{3}e\",\"aple apple appple apppppple\"))\n",
    "re.search(\"a\\w{3}e\",\"aple apple appple apppppple a123ple\")"
   ]
  },
  {
   "cell_type": "code",
   "execution_count": null,
   "id": "37da89e4",
   "metadata": {},
   "outputs": [],
   "source": [
    "# \\s, \\d\n",
    "print(re.search(\"\\sapple\\s\",\"orange apple banana\"))\n",
    "print(re.search(r\"\\sapple\\b\",\"orange apple banana\"))"
   ]
  },
  {
   "cell_type": "code",
   "execution_count": null,
   "id": "b5ef8323",
   "metadata": {},
   "outputs": [],
   "source": [
    "re.search(r\"\\\\python\\\\\", \"c:\\python\\sample\")"
   ]
  },
  {
   "cell_type": "markdown",
   "id": "292ac7f4",
   "metadata": {},
   "source": [
    "### 2) re 모듈 함수"
   ]
  },
  {
   "cell_type": "code",
   "execution_count": null,
   "id": "27bb7793",
   "metadata": {},
   "outputs": [],
   "source": [
    "# re.compile\n",
    "import re\n",
    "c = re.compile(\"ap*le\")\n",
    "print(c.search(\"appppple\"))\n",
    "\n",
    "print(re.search(\"ap*le\", \"appppple\"))"
   ]
  },
  {
   "cell_type": "code",
   "execution_count": null,
   "id": "65035817",
   "metadata": {},
   "outputs": [],
   "source": [
    "#re.split\n",
    "print(re.split(\"\\s\", \"apple orange banana\"))\n",
    "print(re.split(\"a.g\", \"apple orange banana\"))\n"
   ]
  },
  {
   "cell_type": "code",
   "execution_count": null,
   "id": "041c35d4",
   "metadata": {},
   "outputs": [],
   "source": [
    "# sub\n",
    "print(re.sub(\"app.e\", \"kiwi\", \"apple orange banana apple orange banana\"))\n",
    "print(re.sub(\"app.e\", \"kiwi\", \"apple orange banana apple orange banana\", 1))"
   ]
  },
  {
   "cell_type": "code",
   "execution_count": null,
   "id": "d0a7e38d",
   "metadata": {},
   "outputs": [],
   "source": [
    "type(c)"
   ]
  },
  {
   "cell_type": "markdown",
   "id": "f296eaf6",
   "metadata": {},
   "source": [
    "### 3) 정규 표현식 객체"
   ]
  },
  {
   "cell_type": "code",
   "execution_count": null,
   "id": "b42a632b",
   "metadata": {},
   "outputs": [],
   "source": [
    "# 정규 표현식 객체 메서드\n",
    "c = re.compile(\"ap*le\")\n",
    "print(c.search(\"aaaaapppppple\"))\n",
    "print(c.match(\"aaaaapppppple\"))\n",
    "print(c.findall(\"aple apple appple appppple a123e\"))\n",
    "rs = c.finditer(\"aple apple appple appppple a123e\")\n",
    "print(rs)\n",
    "for r in rs:\n",
    "    print(r)"
   ]
  },
  {
   "cell_type": "code",
   "execution_count": null,
   "id": "834af616",
   "metadata": {},
   "outputs": [],
   "source": [
    "# match 객체의 메서드\n",
    "\n",
    "a = \"제 전화번호는 010-1111-2222, 010-3333-4444입니다. 전화주시면 감사하겠습니다.\"\n",
    "b = re.search(\"(\\d{3})-(\\d{4})-(\\d{4})\", a)\n",
    "print(b)\n",
    "\n",
    "print(b.groups())\n",
    "print(b.start())\n",
    "print(b.group(1))\n",
    "print(b.group(2))\n",
    "print(b.group(3))\n",
    "\n",
    "print(b.start())\n",
    "print(b.end())"
   ]
  },
  {
   "cell_type": "markdown",
   "id": "363870c9",
   "metadata": {},
   "source": [
    "### 4) 컴파일 옵션"
   ]
  },
  {
   "cell_type": "code",
   "execution_count": null,
   "id": "5f54a610",
   "metadata": {},
   "outputs": [],
   "source": [
    "c = re.compile(\"ap*le\")\n",
    "a = \"AppLe appPPle orange banana aple ALE\"\n",
    "print(c.search(a))\n",
    "\n",
    "c = re.compile(\"ap*le\",re.i)\n",
    "a = \"AppLe appPPle orange banana aple ALE\"\n",
    "print(c.findall(a))"
   ]
  },
  {
   "cell_type": "code",
   "execution_count": null,
   "id": "0e74c7cb",
   "metadata": {},
   "outputs": [],
   "source": [
    "d = \"\"\"python is power\n",
    "hello python\n",
    "apple orange banana\n",
    "python simple too\n",
    "\"\"\"\n",
    "\n",
    "e = re.compile(\"pyt.on\")\n",
    "print(e.search(d))\n",
    "\n"
   ]
  },
  {
   "cell_type": "code",
   "execution_count": null,
   "id": "1669d38c",
   "metadata": {},
   "outputs": [],
   "source": [
    "a = \"phone number : 010-1234-4344, tel number : 02.333.4444\"\n",
    "c = re.compile(r\"\"\"\n",
    "[0-9]+\n",
    ".\n",
    "[0-9]+\n",
    ".\n",
    "[0-9]+\n",
    "\"\"\", re.X)\n",
    "\n",
    "\"[0-9]+.[0-9]+.[0-9]+\"\n",
    "\n",
    "r = c.findall(a)\n",
    "print(r)"
   ]
  },
  {
   "cell_type": "code",
   "execution_count": null,
   "id": "1721c6b3",
   "metadata": {},
   "outputs": [],
   "source": []
  }
 ],
 "metadata": {
  "kernelspec": {
   "display_name": "Python 3 (ipykernel)",
   "language": "python",
   "name": "python3"
  },
  "language_info": {
   "codemirror_mode": {
    "name": "ipython",
    "version": 3
   },
   "file_extension": ".py",
   "mimetype": "text/x-python",
   "name": "python",
   "nbconvert_exporter": "python",
   "pygments_lexer": "ipython3",
   "version": "3.10.6"
  }
 },
 "nbformat": 4,
 "nbformat_minor": 5
}
